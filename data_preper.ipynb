{
 "cells": [
  {
   "cell_type": "code",
   "execution_count": 4,
   "metadata": {},
   "outputs": [
    {
     "name": "stdout",
     "output_type": "stream",
     "text": [
      "  REF_BACEN NU_ORDEM   CNPJ_IF DT_EMISSAO DT_VENCIMENTO CD_INST_CREDITO  \\\n",
      "0      1102        1  00000000 2013-01-02    2014-01-02               1   \n",
      "1      1102        2  00000000 2013-01-02    2014-01-02               1   \n",
      "2      1103        1  00000000 2013-01-02    2014-01-02               8   \n",
      "3      1104        1  00000000 2013-01-02    2014-02-28               1   \n",
      "4      1105        1  07237373 2013-01-02    2018-01-02               2   \n",
      "\n",
      "  CD_CATEG_EMITENTE CD_FONTE_RECURSO CNPJ_AGENTE_INVEST CD_ESTADO  ...  \\\n",
      "0              3333             0300               None        GO  ...   \n",
      "1              3333             0300               None        GO  ...   \n",
      "2              2222             0300               None        SE  ...   \n",
      "3              3333             0300               None        PR  ...   \n",
      "4              5555             0502               None        SE  ...   \n",
      "\n",
      "  PC_BONUS_CAR MES SEMESTRE   ANO      SAFRA  \\\n",
      "0         None   1        1  2013  2012/2013   \n",
      "1         None   1        1  2013  2012/2013   \n",
      "2         None   1        1  2013  2012/2013   \n",
      "3         None   1        1  2013  2012/2013   \n",
      "4         None   1        1  2013  2012/2013   \n",
      "\n",
      "                                  PROGRAMA_DESCRICAO CD_IBGE_MUNICIPIO  \\\n",
      "0                                               None           5217203   \n",
      "1                                               None           5217203   \n",
      "2  PRONAF - PROGRAMA NACIONAL DE FORTALECIMENTO D...           2805604   \n",
      "3  PRONAMP - PROGRAMA NACIONAL DE APOIO AO MÉDIO ...           4103354   \n",
      "4    FINANCIAMENTO SEM VÍNCULO A PROGRAMA ESPECÍFICO           2803708   \n",
      "\n",
      "   CD_CPF_CNPJ SEXO_BIOLOGICO                     CD_DAP  \n",
      "0  82947813120       Feminino                       None  \n",
      "1  82947813120       Feminino                       None  \n",
      "2  03612747509      Masculino  SDW0036127475091312110334  \n",
      "3  60062894900      Masculino                       None  \n",
      "4  53219708587       Feminino                       None  \n",
      "\n",
      "[5 rows x 56 columns]\n"
     ]
    }
   ],
   "source": [
    "import pandas as pd\n",
    "import os\n",
    "\n",
    "# Caminho do arquivo\n",
    "caminho_arquivo = r\"C:\\Users\\marce\\OneDrive - Ministério da Agricultura e Pecuária\\LAB_DATA_MDA\\PRONAF_EXTRACT\\dados_prontos\\pronaf.parquet\"\n",
    "\n",
    "# Leitura do arquivo Parquet\n",
    "df = pd.read_parquet(caminho_arquivo)\n",
    "\n",
    "# Exibindo as primeiras linhas\n",
    "print(df.head())\n"
   ]
  },
  {
   "cell_type": "code",
   "execution_count": 8,
   "metadata": {
    "vscode": {
     "languageId": "shellscript"
    }
   },
   "outputs": [],
   "source": [
    "def tratar_dataframe(df, ano_filtro, cd_programa):\n",
    "    \"\"\"\n",
    "    Trata o dataframe filtrando por ano e programa, selecionando colunas específicas\n",
    "    e removendo valores zero na coluna VL_PARC_CREDITO.\n",
    "\n",
    "    Parâmetros:\n",
    "        df (pd.DataFrame): DataFrame a ser tratado.\n",
    "        ano_filtro (int): Ano mínimo para o filtro.\n",
    "\n",
    "    Retorno:\n",
    "        pd.DataFrame: DataFrame tratado.\n",
    "    \"\"\"\n",
    "    # Filtrar por ANO > ano_filtro e CD_PROGRAMA = '0001'\n",
    "    df_filtrado = df[(df['ANO'] > ano_filtro) & (df['CD_PROGRAMA'] == cd_programa)]\n",
    "\n",
    "    # Selecionar colunas\n",
    "    colunas_selecionadas = [\n",
    "        'CD_ESTADO', 'VL_PARC_CREDITO', 'ANO', 'SAFRA', 'CD_CPF_CNPJ', 'SEXO_BIOLOGICO'\n",
    "    ]\n",
    "    df_filtrado = df_filtrado[colunas_selecionadas]\n",
    "\n",
    "    # Remover valores zero em VL_PARC_CREDITO\n",
    "    df_filtrado['VL_PARC_CREDITO'] = pd.to_numeric(df_filtrado['VL_PARC_CREDITO'], errors='coerce')\n",
    "    df_filtrado = df_filtrado[df_filtrado['VL_PARC_CREDITO'] > 0]\n",
    "    # Tratamento dos dados (exemplo: remover valores nulos)\n",
    "    df_filtrado = df_filtrado.dropna()\n",
    "\n",
    "    return df_filtrado"
   ]
  },
  {
   "cell_type": "code",
   "execution_count": 17,
   "metadata": {},
   "outputs": [
    {
     "data": {
      "application/vnd.microsoft.datawrangler.viewer.v0+json": {
       "columns": [
        {
         "name": "index",
         "rawType": "int64",
         "type": "integer"
        },
        {
         "name": "CD_ESTADO",
         "rawType": "object",
         "type": "string"
        },
        {
         "name": "VL_PARC_CREDITO",
         "rawType": "float64",
         "type": "float"
        },
        {
         "name": "ANO",
         "rawType": "int32",
         "type": "integer"
        },
        {
         "name": "SAFRA",
         "rawType": "object",
         "type": "string"
        },
        {
         "name": "CD_CPF_CNPJ",
         "rawType": "object",
         "type": "string"
        },
        {
         "name": "SEXO_BIOLOGICO",
         "rawType": "object",
         "type": "string"
        }
       ],
       "conversionMethod": "pd.DataFrame",
       "ref": "a2d92f59-9bc5-4180-8eea-92380df56fbb",
       "rows": [
        [
         "23362111",
         "MG",
         "127922.88",
         "2024",
         "2023/2024",
         "08266524688",
         "Masculino"
        ],
        [
         "23362112",
         "GO",
         "91619.92",
         "2024",
         "2023/2024",
         "02074654103",
         "Masculino"
        ],
        [
         "23362113",
         "RO",
         "12247.05",
         "2024",
         "2023/2024",
         "00746451296",
         "Masculino"
        ],
        [
         "23362114",
         "SP",
         "34181.94",
         "2024",
         "2023/2024",
         "20331387808",
         "Masculino"
        ],
        [
         "23362115",
         "MS",
         "10406.23",
         "2024",
         "2023/2024",
         "04596710147",
         "Masculino"
        ],
        [
         "23362116",
         "PE",
         "14447.48",
         "2024",
         "2023/2024",
         "27214311453",
         "Masculino"
        ],
        [
         "23362117",
         "BA",
         "3226.6",
         "2024",
         "2023/2024",
         "04369915511",
         "Masculino"
        ],
        [
         "23362118",
         "BA",
         "11392.68",
         "2024",
         "2023/2024",
         "04369915511",
         "Masculino"
        ],
        [
         "23362119",
         "GO",
         "72498.88",
         "2024",
         "2023/2024",
         "76632423191",
         "Masculino"
        ],
        [
         "23362120",
         "MG",
         "79493.64",
         "2024",
         "2023/2024",
         "18311490600",
         "Masculino"
        ],
        [
         "23362121",
         "MG",
         "44172.54",
         "2024",
         "2023/2024",
         "53376234604",
         "Masculino"
        ],
        [
         "23362122",
         "MG",
         "52357.32",
         "2024",
         "2023/2024",
         "85679097672",
         "Masculino"
        ],
        [
         "23362123",
         "MG",
         "21740.61",
         "2024",
         "2023/2024",
         "68741235649",
         "Masculino"
        ],
        [
         "23362125",
         "PI",
         "10623.25",
         "2024",
         "2023/2024",
         "06534324377",
         "Masculino"
        ],
        [
         "23362126",
         "PI",
         "3365.0",
         "2024",
         "2023/2024",
         "06534324377",
         "Masculino"
        ],
        [
         "23362127",
         "PI",
         "11700.0",
         "2024",
         "2023/2024",
         "06534324377",
         "Masculino"
        ],
        [
         "23362128",
         "PI",
         "4305.0",
         "2024",
         "2023/2024",
         "06534324377",
         "Masculino"
        ],
        [
         "23362129",
         "RS",
         "165000.0",
         "2024",
         "2023/2024",
         "95810528015",
         "Masculino"
        ],
        [
         "23362130",
         "RS",
         "110000.0",
         "2024",
         "2023/2024",
         "01032891009",
         "Feminino"
        ],
        [
         "23362131",
         "RS",
         "18060.0",
         "2024",
         "2023/2024",
         "92171516020",
         "Feminino"
        ],
        [
         "23362132",
         "RS",
         "192500.0",
         "2024",
         "2023/2024",
         "03570626040",
         "Feminino"
        ],
        [
         "23362133",
         "RS",
         "165000.0",
         "2024",
         "2023/2024",
         "01391028090",
         "Feminino"
        ],
        [
         "23362138",
         "RS",
         "20000.0",
         "2024",
         "2023/2024",
         "82306281068",
         "Masculino"
        ],
        [
         "23362139",
         "RS",
         "73400.0",
         "2024",
         "2023/2024",
         "88403505000",
         "Masculino"
        ],
        [
         "23362141",
         "RS",
         "19515.0",
         "2024",
         "2023/2024",
         "03596658020",
         "Masculino"
        ],
        [
         "23362142",
         "SC",
         "8400.0",
         "2024",
         "2023/2024",
         "10303058978",
         "Masculino"
        ],
        [
         "23362143",
         "SE",
         "10000.0",
         "2024",
         "2023/2024",
         "02066756580",
         "Masculino"
        ],
        [
         "23362144",
         "GO",
         "24413.66",
         "2024",
         "2023/2024",
         "88225739191",
         "Masculino"
        ],
        [
         "23362145",
         "RO",
         "10509.6",
         "2024",
         "2023/2024",
         "02126023222",
         "Masculino"
        ],
        [
         "23362147",
         "MG",
         "30582.43",
         "2024",
         "2023/2024",
         "02704119686",
         "Feminino"
        ],
        [
         "23362150",
         "MG",
         "38877.3",
         "2024",
         "2023/2024",
         "17935520615",
         "Masculino"
        ],
        [
         "23362151",
         "MG",
         "16578.33",
         "2024",
         "2023/2024",
         "38269511668",
         "Masculino"
        ],
        [
         "23362152",
         "MG",
         "44317.8",
         "2024",
         "2023/2024",
         "21445893649",
         "Masculino"
        ],
        [
         "23362156",
         "GO",
         "14914.87",
         "2024",
         "2023/2024",
         "49390112168",
         "Masculino"
        ],
        [
         "23362157",
         "MG",
         "23958.63",
         "2024",
         "2023/2024",
         "12969593688",
         "Masculino"
        ],
        [
         "23362158",
         "GO",
         "37897.14",
         "2024",
         "2023/2024",
         "53084586187",
         "Masculino"
        ],
        [
         "23362160",
         "PR",
         "15894.51",
         "2024",
         "2023/2024",
         "02559574918",
         "Masculino"
        ],
        [
         "23362161",
         "MG",
         "17343.1",
         "2024",
         "2023/2024",
         "77250729691",
         "Masculino"
        ],
        [
         "23362162",
         "MG",
         "34708.68",
         "2024",
         "2023/2024",
         "17052408600",
         "Masculino"
        ],
        [
         "23362163",
         "PR",
         "170700.0",
         "2024",
         "2023/2024",
         "51344505953",
         "Masculino"
        ],
        [
         "23362165",
         "RS",
         "82499.4",
         "2024",
         "2023/2024",
         "75269899000",
         "Feminino"
        ],
        [
         "23362167",
         "RS",
         "160800.0",
         "2024",
         "2023/2024",
         "64671569000",
         "Feminino"
        ],
        [
         "23362168",
         "RS",
         "56250.0",
         "2024",
         "2023/2024",
         "01879283042",
         "Masculino"
        ],
        [
         "23362170",
         "PR",
         "46800.0",
         "2024",
         "2023/2024",
         "07179965901",
         "Feminino"
        ],
        [
         "23362171",
         "RS",
         "16738.92",
         "2024",
         "2023/2024",
         "49962744091",
         "Masculino"
        ],
        [
         "23362172",
         "SC",
         "3000.0",
         "2024",
         "2023/2024",
         "77190114904",
         "Feminino"
        ],
        [
         "23362173",
         "SC",
         "19818.0",
         "2024",
         "2023/2024",
         "77190114904",
         "Feminino"
        ],
        [
         "23362174",
         "PB",
         "8800.0",
         "2024",
         "2023/2024",
         "03581274400",
         "Masculino"
        ],
        [
         "23362175",
         "PB",
         "1200.0",
         "2024",
         "2023/2024",
         "03581274400",
         "Masculino"
        ],
        [
         "23362176",
         "BA",
         "6000.0",
         "2024",
         "2023/2024",
         "01535402571",
         "Feminino"
        ]
       ],
       "shape": {
        "columns": 6,
        "rows": 1825844
       }
      },
      "text/html": [
       "<div>\n",
       "<style scoped>\n",
       "    .dataframe tbody tr th:only-of-type {\n",
       "        vertical-align: middle;\n",
       "    }\n",
       "\n",
       "    .dataframe tbody tr th {\n",
       "        vertical-align: top;\n",
       "    }\n",
       "\n",
       "    .dataframe thead th {\n",
       "        text-align: right;\n",
       "    }\n",
       "</style>\n",
       "<table border=\"1\" class=\"dataframe\">\n",
       "  <thead>\n",
       "    <tr style=\"text-align: right;\">\n",
       "      <th></th>\n",
       "      <th>CD_ESTADO</th>\n",
       "      <th>VL_PARC_CREDITO</th>\n",
       "      <th>ANO</th>\n",
       "      <th>SAFRA</th>\n",
       "      <th>CD_CPF_CNPJ</th>\n",
       "      <th>SEXO_BIOLOGICO</th>\n",
       "    </tr>\n",
       "  </thead>\n",
       "  <tbody>\n",
       "    <tr>\n",
       "      <th>23362111</th>\n",
       "      <td>MG</td>\n",
       "      <td>127922.88</td>\n",
       "      <td>2024</td>\n",
       "      <td>2023/2024</td>\n",
       "      <td>08266524688</td>\n",
       "      <td>Masculino</td>\n",
       "    </tr>\n",
       "    <tr>\n",
       "      <th>23362112</th>\n",
       "      <td>GO</td>\n",
       "      <td>91619.92</td>\n",
       "      <td>2024</td>\n",
       "      <td>2023/2024</td>\n",
       "      <td>02074654103</td>\n",
       "      <td>Masculino</td>\n",
       "    </tr>\n",
       "    <tr>\n",
       "      <th>23362113</th>\n",
       "      <td>RO</td>\n",
       "      <td>12247.05</td>\n",
       "      <td>2024</td>\n",
       "      <td>2023/2024</td>\n",
       "      <td>00746451296</td>\n",
       "      <td>Masculino</td>\n",
       "    </tr>\n",
       "    <tr>\n",
       "      <th>23362114</th>\n",
       "      <td>SP</td>\n",
       "      <td>34181.94</td>\n",
       "      <td>2024</td>\n",
       "      <td>2023/2024</td>\n",
       "      <td>20331387808</td>\n",
       "      <td>Masculino</td>\n",
       "    </tr>\n",
       "    <tr>\n",
       "      <th>23362115</th>\n",
       "      <td>MS</td>\n",
       "      <td>10406.23</td>\n",
       "      <td>2024</td>\n",
       "      <td>2023/2024</td>\n",
       "      <td>04596710147</td>\n",
       "      <td>Masculino</td>\n",
       "    </tr>\n",
       "    <tr>\n",
       "      <th>...</th>\n",
       "      <td>...</td>\n",
       "      <td>...</td>\n",
       "      <td>...</td>\n",
       "      <td>...</td>\n",
       "      <td>...</td>\n",
       "      <td>...</td>\n",
       "    </tr>\n",
       "    <tr>\n",
       "      <th>25900339</th>\n",
       "      <td>PR</td>\n",
       "      <td>100800.00</td>\n",
       "      <td>2025</td>\n",
       "      <td>2024/2025</td>\n",
       "      <td>73509965949</td>\n",
       "      <td>Masculino</td>\n",
       "    </tr>\n",
       "    <tr>\n",
       "      <th>25900340</th>\n",
       "      <td>PR</td>\n",
       "      <td>100800.00</td>\n",
       "      <td>2025</td>\n",
       "      <td>2024/2025</td>\n",
       "      <td>05265986979</td>\n",
       "      <td>Feminino</td>\n",
       "    </tr>\n",
       "    <tr>\n",
       "      <th>25900341</th>\n",
       "      <td>RS</td>\n",
       "      <td>65000.00</td>\n",
       "      <td>2025</td>\n",
       "      <td>2024/2025</td>\n",
       "      <td>70043752004</td>\n",
       "      <td>Masculino</td>\n",
       "    </tr>\n",
       "    <tr>\n",
       "      <th>25900342</th>\n",
       "      <td>PR</td>\n",
       "      <td>226980.00</td>\n",
       "      <td>2025</td>\n",
       "      <td>2024/2025</td>\n",
       "      <td>11119433975</td>\n",
       "      <td>Masculino</td>\n",
       "    </tr>\n",
       "    <tr>\n",
       "      <th>25900344</th>\n",
       "      <td>SP</td>\n",
       "      <td>99000.00</td>\n",
       "      <td>2025</td>\n",
       "      <td>2024/2025</td>\n",
       "      <td>13420894805</td>\n",
       "      <td>Feminino</td>\n",
       "    </tr>\n",
       "  </tbody>\n",
       "</table>\n",
       "<p>1825844 rows × 6 columns</p>\n",
       "</div>"
      ],
      "text/plain": [
       "         CD_ESTADO  VL_PARC_CREDITO   ANO      SAFRA  CD_CPF_CNPJ  \\\n",
       "23362111        MG        127922.88  2024  2023/2024  08266524688   \n",
       "23362112        GO         91619.92  2024  2023/2024  02074654103   \n",
       "23362113        RO         12247.05  2024  2023/2024  00746451296   \n",
       "23362114        SP         34181.94  2024  2023/2024  20331387808   \n",
       "23362115        MS         10406.23  2024  2023/2024  04596710147   \n",
       "...            ...              ...   ...        ...          ...   \n",
       "25900339        PR        100800.00  2025  2024/2025  73509965949   \n",
       "25900340        PR        100800.00  2025  2024/2025  05265986979   \n",
       "25900341        RS         65000.00  2025  2024/2025  70043752004   \n",
       "25900342        PR        226980.00  2025  2024/2025  11119433975   \n",
       "25900344        SP         99000.00  2025  2024/2025  13420894805   \n",
       "\n",
       "         SEXO_BIOLOGICO  \n",
       "23362111      Masculino  \n",
       "23362112      Masculino  \n",
       "23362113      Masculino  \n",
       "23362114      Masculino  \n",
       "23362115      Masculino  \n",
       "...                 ...  \n",
       "25900339      Masculino  \n",
       "25900340       Feminino  \n",
       "25900341      Masculino  \n",
       "25900342      Masculino  \n",
       "25900344       Feminino  \n",
       "\n",
       "[1825844 rows x 6 columns]"
      ]
     },
     "execution_count": 17,
     "metadata": {},
     "output_type": "execute_result"
    }
   ],
   "source": [
    "df_tratado = tratar_dataframe(df, 2023, \"0001\")\n",
    "df_tratado"
   ]
  },
  {
   "cell_type": "code",
   "execution_count": 18,
   "metadata": {},
   "outputs": [
    {
     "name": "stdout",
     "output_type": "stream",
     "text": [
      "Arquivo salvo em: data/pronaf.csv\n"
     ]
    }
   ],
   "source": [
    "# Salvar o arquivo tratado como CSV\n",
    "output_path = \"data/pronaf.csv\"\n",
    "df_tratado.to_csv(output_path, index=False)\n",
    "\n",
    "print(f\"Arquivo salvo em: {output_path}\")"
   ]
  },
  {
   "cell_type": "code",
   "execution_count": 19,
   "metadata": {},
   "outputs": [
    {
     "name": "stdout",
     "output_type": "stream",
     "text": [
      "O arquivo data/pronaf.csv tem 84.23 MB e está dentro do limite.\n"
     ]
    }
   ],
   "source": [
    "import os\n",
    "\n",
    "# Verificar o tamanho do arquivo\n",
    "file_size = os.path.getsize(output_path)\n",
    "\n",
    "# Converter o tamanho para MB\n",
    "file_size_mb = file_size / (1024 * 1024)\n",
    "\n",
    "# Verificar se o tamanho ultrapassa 100 MB\n",
    "if file_size_mb > 100:\n",
    "    print(f\"Alerta: O arquivo {output_path} ultrapassou 100 MB ({file_size_mb:.2f} MB).\")\n",
    "else:\n",
    "    print(f\"O arquivo {output_path} tem {file_size_mb:.2f} MB e está dentro do limite.\")"
   ]
  }
 ],
 "metadata": {
  "kernelspec": {
   "display_name": ".venv",
   "language": "python",
   "name": "python3"
  },
  "language_info": {
   "codemirror_mode": {
    "name": "ipython",
    "version": 3
   },
   "file_extension": ".py",
   "mimetype": "text/x-python",
   "name": "python",
   "nbconvert_exporter": "python",
   "pygments_lexer": "ipython3",
   "version": "3.12.4"
  }
 },
 "nbformat": 4,
 "nbformat_minor": 2
}
