{
 "cells": [
  {
   "cell_type": "code",
   "execution_count": 2,
   "metadata": {
    "vscode": {
     "languageId": "ruby"
    }
   },
   "outputs": [
    {
     "data": {
      "application/vnd.microsoft.datawrangler.viewer.v0+json": {
       "columns": [
        {
         "name": "index",
         "rawType": "int64",
         "type": "integer"
        },
        {
         "name": "CD_ESTADO",
         "rawType": "object",
         "type": "string"
        },
        {
         "name": "VL_PARC_CREDITO",
         "rawType": "float64",
         "type": "float"
        },
        {
         "name": "ANO",
         "rawType": "int64",
         "type": "integer"
        },
        {
         "name": "SAFRA",
         "rawType": "object",
         "type": "string"
        },
        {
         "name": "CD_CPF_CNPJ",
         "rawType": "int64",
         "type": "integer"
        },
        {
         "name": "SEXO_BIOLOGICO",
         "rawType": "object",
         "type": "string"
        }
       ],
       "conversionMethod": "pd.DataFrame",
       "ref": "64a207d2-9253-4185-b7db-38fb1a2b7fc9",
       "rows": [
        [
         "0",
         "MG",
         "127922.88",
         "2024",
         "2023/2024",
         "8266524688",
         "Masculino"
        ],
        [
         "1",
         "GO",
         "91619.92",
         "2024",
         "2023/2024",
         "2074654103",
         "Masculino"
        ],
        [
         "2",
         "RO",
         "12247.05",
         "2024",
         "2023/2024",
         "746451296",
         "Masculino"
        ],
        [
         "3",
         "SP",
         "34181.94",
         "2024",
         "2023/2024",
         "20331387808",
         "Masculino"
        ],
        [
         "4",
         "MS",
         "10406.23",
         "2024",
         "2023/2024",
         "4596710147",
         "Masculino"
        ]
       ],
       "shape": {
        "columns": 6,
        "rows": 5
       }
      },
      "text/html": [
       "<div>\n",
       "<style scoped>\n",
       "    .dataframe tbody tr th:only-of-type {\n",
       "        vertical-align: middle;\n",
       "    }\n",
       "\n",
       "    .dataframe tbody tr th {\n",
       "        vertical-align: top;\n",
       "    }\n",
       "\n",
       "    .dataframe thead th {\n",
       "        text-align: right;\n",
       "    }\n",
       "</style>\n",
       "<table border=\"1\" class=\"dataframe\">\n",
       "  <thead>\n",
       "    <tr style=\"text-align: right;\">\n",
       "      <th></th>\n",
       "      <th>CD_ESTADO</th>\n",
       "      <th>VL_PARC_CREDITO</th>\n",
       "      <th>ANO</th>\n",
       "      <th>SAFRA</th>\n",
       "      <th>CD_CPF_CNPJ</th>\n",
       "      <th>SEXO_BIOLOGICO</th>\n",
       "    </tr>\n",
       "  </thead>\n",
       "  <tbody>\n",
       "    <tr>\n",
       "      <th>0</th>\n",
       "      <td>MG</td>\n",
       "      <td>127922.88</td>\n",
       "      <td>2024</td>\n",
       "      <td>2023/2024</td>\n",
       "      <td>8266524688</td>\n",
       "      <td>Masculino</td>\n",
       "    </tr>\n",
       "    <tr>\n",
       "      <th>1</th>\n",
       "      <td>GO</td>\n",
       "      <td>91619.92</td>\n",
       "      <td>2024</td>\n",
       "      <td>2023/2024</td>\n",
       "      <td>2074654103</td>\n",
       "      <td>Masculino</td>\n",
       "    </tr>\n",
       "    <tr>\n",
       "      <th>2</th>\n",
       "      <td>RO</td>\n",
       "      <td>12247.05</td>\n",
       "      <td>2024</td>\n",
       "      <td>2023/2024</td>\n",
       "      <td>746451296</td>\n",
       "      <td>Masculino</td>\n",
       "    </tr>\n",
       "    <tr>\n",
       "      <th>3</th>\n",
       "      <td>SP</td>\n",
       "      <td>34181.94</td>\n",
       "      <td>2024</td>\n",
       "      <td>2023/2024</td>\n",
       "      <td>20331387808</td>\n",
       "      <td>Masculino</td>\n",
       "    </tr>\n",
       "    <tr>\n",
       "      <th>4</th>\n",
       "      <td>MS</td>\n",
       "      <td>10406.23</td>\n",
       "      <td>2024</td>\n",
       "      <td>2023/2024</td>\n",
       "      <td>4596710147</td>\n",
       "      <td>Masculino</td>\n",
       "    </tr>\n",
       "  </tbody>\n",
       "</table>\n",
       "</div>"
      ],
      "text/plain": [
       "  CD_ESTADO  VL_PARC_CREDITO   ANO      SAFRA  CD_CPF_CNPJ SEXO_BIOLOGICO\n",
       "0        MG        127922.88  2024  2023/2024   8266524688      Masculino\n",
       "1        GO         91619.92  2024  2023/2024   2074654103      Masculino\n",
       "2        RO         12247.05  2024  2023/2024    746451296      Masculino\n",
       "3        SP         34181.94  2024  2023/2024  20331387808      Masculino\n",
       "4        MS         10406.23  2024  2023/2024   4596710147      Masculino"
      ]
     },
     "execution_count": 2,
     "metadata": {},
     "output_type": "execute_result"
    }
   ],
   "source": [
    "import pandas as pd\n",
    "\n",
    "# Carregar os dados do arquivo pronaf.csv\n",
    "caminho_arquivo = 'data/pronaf.csv'\n",
    "dados_pronaf = pd.read_csv(caminho_arquivo)\n",
    "\n",
    "# Exibir as primeiras linhas do DataFrame\n",
    "dados_pronaf.head()"
   ]
  },
  {
   "cell_type": "code",
   "execution_count": 3,
   "metadata": {},
   "outputs": [
    {
     "name": "stdout",
     "output_type": "stream",
     "text": [
      "    ANO SEXO_BIOLOGICO  soma_vl_parc_credito  quantidade_operacoes  \\\n",
      "0  2024       Feminino          3.614174e+08                  6384   \n",
      "1  2024      Masculino          9.366317e+08                 12000   \n",
      "2  2025       Feminino          2.878582e+07                   852   \n",
      "3  2025      Masculino          7.596973e+07                  1445   \n",
      "\n",
      "   quantidade_beneficiarios  \n",
      "0                      4825  \n",
      "1                      9077  \n",
      "2                       804  \n",
      "3                      1368  \n"
     ]
    },
    {
     "data": {
      "application/vnd.microsoft.datawrangler.viewer.v0+json": {
       "columns": [
        {
         "name": "index",
         "rawType": "int64",
         "type": "integer"
        },
        {
         "name": "ANO",
         "rawType": "int64",
         "type": "integer"
        },
        {
         "name": "SEXO_BIOLOGICO",
         "rawType": "object",
         "type": "string"
        },
        {
         "name": "soma_vl_parc_credito",
         "rawType": "float64",
         "type": "float"
        },
        {
         "name": "quantidade_operacoes",
         "rawType": "int64",
         "type": "integer"
        },
        {
         "name": "quantidade_beneficiarios",
         "rawType": "int64",
         "type": "integer"
        }
       ],
       "conversionMethod": "pd.DataFrame",
       "ref": "b257cb1b-a424-4e0a-90b0-21da68b4e6ab",
       "rows": [
        [
         "0",
         "2024",
         "Feminino",
         "361417429.4",
         "6384",
         "4825"
        ],
        [
         "1",
         "2024",
         "Masculino",
         "936631688.9",
         "12000",
         "9077"
        ],
        [
         "2",
         "2025",
         "Feminino",
         "28785818.87",
         "852",
         "804"
        ],
        [
         "3",
         "2025",
         "Masculino",
         "75969726.15",
         "1445",
         "1368"
        ]
       ],
       "shape": {
        "columns": 5,
        "rows": 4
       }
      },
      "text/html": [
       "<div>\n",
       "<style scoped>\n",
       "    .dataframe tbody tr th:only-of-type {\n",
       "        vertical-align: middle;\n",
       "    }\n",
       "\n",
       "    .dataframe tbody tr th {\n",
       "        vertical-align: top;\n",
       "    }\n",
       "\n",
       "    .dataframe thead th {\n",
       "        text-align: right;\n",
       "    }\n",
       "</style>\n",
       "<table border=\"1\" class=\"dataframe\">\n",
       "  <thead>\n",
       "    <tr style=\"text-align: right;\">\n",
       "      <th></th>\n",
       "      <th>ANO</th>\n",
       "      <th>SEXO_BIOLOGICO</th>\n",
       "      <th>soma_vl_parc_credito</th>\n",
       "      <th>quantidade_operacoes</th>\n",
       "      <th>quantidade_beneficiarios</th>\n",
       "    </tr>\n",
       "  </thead>\n",
       "  <tbody>\n",
       "    <tr>\n",
       "      <th>0</th>\n",
       "      <td>2024</td>\n",
       "      <td>Feminino</td>\n",
       "      <td>3.614174e+08</td>\n",
       "      <td>6384</td>\n",
       "      <td>4825</td>\n",
       "    </tr>\n",
       "    <tr>\n",
       "      <th>1</th>\n",
       "      <td>2024</td>\n",
       "      <td>Masculino</td>\n",
       "      <td>9.366317e+08</td>\n",
       "      <td>12000</td>\n",
       "      <td>9077</td>\n",
       "    </tr>\n",
       "    <tr>\n",
       "      <th>2</th>\n",
       "      <td>2025</td>\n",
       "      <td>Feminino</td>\n",
       "      <td>2.878582e+07</td>\n",
       "      <td>852</td>\n",
       "      <td>804</td>\n",
       "    </tr>\n",
       "    <tr>\n",
       "      <th>3</th>\n",
       "      <td>2025</td>\n",
       "      <td>Masculino</td>\n",
       "      <td>7.596973e+07</td>\n",
       "      <td>1445</td>\n",
       "      <td>1368</td>\n",
       "    </tr>\n",
       "  </tbody>\n",
       "</table>\n",
       "</div>"
      ],
      "text/plain": [
       "    ANO SEXO_BIOLOGICO  soma_vl_parc_credito  quantidade_operacoes  \\\n",
       "0  2024       Feminino          3.614174e+08                  6384   \n",
       "1  2024      Masculino          9.366317e+08                 12000   \n",
       "2  2025       Feminino          2.878582e+07                   852   \n",
       "3  2025      Masculino          7.596973e+07                  1445   \n",
       "\n",
       "   quantidade_beneficiarios  \n",
       "0                      4825  \n",
       "1                      9077  \n",
       "2                       804  \n",
       "3                      1368  "
      ]
     },
     "execution_count": 3,
     "metadata": {},
     "output_type": "execute_result"
    }
   ],
   "source": [
    "def filtrar_agregar_por_estado(dados, cd_estado):\n",
    "    \"\"\"\n",
    "    Filtra os dados pelo código do estado (CD_ESTADO) e realiza agregações:\n",
    "    - Soma do valor de crédito.\n",
    "    - Contagem total de operações.\n",
    "    - Número de beneficiários únicos.\n",
    "\n",
    "    Parâmetros:\n",
    "        dados (DataFrame): DataFrame com os dados do PRONAF.\n",
    "        cd_estado (str): Código do estado (ex: 'MG', 'SP', etc.).\n",
    "\n",
    "    Retorna:\n",
    "        DataFrame: Resultados agregados por ano, sexo biológico e safra.\n",
    "    \"\"\"\n",
    "    # Verifica se a coluna existe\n",
    "    if 'CD_ESTADO' not in dados.columns:\n",
    "        raise ValueError(\"A coluna 'CD_ESTADO' não foi encontrada no DataFrame.\")\n",
    "\n",
    "    # Filtra os dados\n",
    "    dados_filtrados = dados[dados['CD_ESTADO'] == cd_estado]\n",
    "\n",
    "    # Se nenhum dado for encontrado, retorna um DataFrame vazio com as colunas esperadas\n",
    "    if dados_filtrados.empty:\n",
    "        return pd.DataFrame(columns=['ANO', 'SEXO_BIOLOGICO', #'SAFRA', \n",
    "                                     'soma_vl_parc_credito', \n",
    "                                     'quantidade_operacoes', \n",
    "                                     'quantidade_beneficiarios'])\n",
    "\n",
    "    # Agregação\n",
    "    #resultado = dados_filtrados.groupby(['ANO', 'SEXO_BIOLOGICO', 'SAFRA']).agg(\n",
    "    resultado = dados_filtrados.groupby(['ANO', 'SEXO_BIOLOGICO']).agg(\n",
    "        soma_vl_parc_credito=('VL_PARC_CREDITO', 'sum'),\n",
    "        quantidade_operacoes=('CD_CPF_CNPJ', 'count'),\n",
    "        quantidade_beneficiarios=('CD_CPF_CNPJ', 'nunique')\n",
    "    ).reset_index()\n",
    "\n",
    "    return resultado\n",
    "\n",
    "resultado_agregado = filtrar_agregar_por_estado(dados_pronaf, 'PA')\n",
    "print(resultado_agregado.head())\n",
    "resultado_agregado"
   ]
  }
 ],
 "metadata": {
  "kernelspec": {
   "display_name": ".venv",
   "language": "python",
   "name": "python3"
  },
  "language_info": {
   "codemirror_mode": {
    "name": "ipython",
    "version": 3
   },
   "file_extension": ".py",
   "mimetype": "text/x-python",
   "name": "python",
   "nbconvert_exporter": "python",
   "pygments_lexer": "ipython3",
   "version": "3.12.4"
  }
 },
 "nbformat": 4,
 "nbformat_minor": 2
}
